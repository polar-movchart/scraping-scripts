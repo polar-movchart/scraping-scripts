{
 "cells": [
  {
   "cell_type": "code",
   "execution_count": 115,
   "metadata": {},
   "outputs": [],
   "source": [
    "from selenium import webdriver;\n",
    "from selenium.webdriver.common.keys import Keys;\n",
    "import time\n",
    "from datetime import datetime, timedelta"
   ]
  },
  {
   "cell_type": "code",
   "execution_count": 25,
   "metadata": {},
   "outputs": [],
   "source": [
    "driver = webdriver.Chrome()"
   ]
  },
  {
   "cell_type": "code",
   "execution_count": 134,
   "metadata": {},
   "outputs": [],
   "source": [
    "url = \"https://www.kobis.or.kr/kobis/business/stat/boxs/findDailyBoxOfficeList.do\"\n",
    "driver.get(url)\n",
    "time.sleep(15)"
   ]
  },
  {
   "cell_type": "code",
   "execution_count": 136,
   "metadata": {},
   "outputs": [
    {
     "name": "stdout",
     "output_type": "stream",
     "text": [
      "04-01-01\n"
     ]
    }
   ],
   "source": [
    "target_date = \"2004-01-01\""
   ]
  },
  {
   "cell_type": "code",
   "execution_count": 141,
   "metadata": {},
   "outputs": [],
   "source": [
    "## 함수 모음\n",
    "def increase_date(start_date):\n",
    "    start_datetime = datetime.strptime(start_date, \"%Y-%m-%d\")\n",
    "    increased_date = start_datetime + timedelta(days=1)\n",
    "    return increased_date\n",
    "\n",
    "def set_target_date(target_date):\n",
    "    formatted_date = target_date[2:]\n",
    "    search_start_date = driver.find_element_by_css_selector('div.tf_comm > input#sSearchFrom')\n",
    "    for i in range(0, 8):\n",
    "        search_start_date.send_keys(Keys.BACK_SPACE)\n",
    "    search_start_date.send_keys(formatted_date)\n",
    "    \n",
    "    search_start_date = driver.find_element_by_css_selector('div.tf_comm > input#sSearchTo')\n",
    "    for i in range(0, 8):\n",
    "        search_start_date.send_keys(Keys.BACK_SPACE)\n",
    "    search_start_date.send_keys(formatted_date)"
   ]
  },
  {
   "cell_type": "code",
   "execution_count": 137,
   "metadata": {},
   "outputs": [],
   "source": [
    "target_date = \"2004-01-01\"\n",
    "set_target_date(target_date)\n",
    "search_button = driver.find_element_by_css_selector('div.wrap_btn > button.btn_blue')\n",
    "search_button.click()"
   ]
  },
  {
   "cell_type": "code",
   "execution_count": null,
   "metadata": {},
   "outputs": [],
   "source": []
  }
 ],
 "metadata": {
  "kernelspec": {
   "display_name": "base",
   "language": "python",
   "name": "python3"
  },
  "language_info": {
   "codemirror_mode": {
    "name": "ipython",
    "version": 3
   },
   "file_extension": ".py",
   "mimetype": "text/x-python",
   "name": "python",
   "nbconvert_exporter": "python",
   "pygments_lexer": "ipython3",
   "version": "3.9.12"
  }
 },
 "nbformat": 4,
 "nbformat_minor": 2
}
