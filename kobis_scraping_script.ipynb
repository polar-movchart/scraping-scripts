{
 "cells": [
  {
   "cell_type": "code",
   "execution_count": 2,
   "metadata": {},
   "outputs": [],
   "source": [
    "from selenium import webdriver;\n",
    "from selenium.webdriver.common.keys import Keys;\n",
    "import time\n",
    "from datetime import datetime, timedelta"
   ]
  },
  {
   "cell_type": "code",
   "execution_count": 48,
   "metadata": {},
   "outputs": [],
   "source": [
    "driver = webdriver.Chrome()"
   ]
  },
  {
   "cell_type": "code",
   "execution_count": 49,
   "metadata": {},
   "outputs": [],
   "source": [
    "url = \"https://www.kobis.or.kr/kobis/business/stat/boxs/findDailyBoxOfficeList.do\"\n",
    "driver.get(url)\n",
    "time.sleep(15)"
   ]
  },
  {
   "cell_type": "code",
   "execution_count": 50,
   "metadata": {},
   "outputs": [],
   "source": [
    "target_date = \"2024-10-01\""
   ]
  },
  {
   "cell_type": "code",
   "execution_count": 51,
   "metadata": {},
   "outputs": [],
   "source": [
    "## 함수 모음\n",
    "def increase_date(start_date):\n",
    "    start_datetime = datetime.strptime(start_date, \"%Y-%m-%d\")\n",
    "    increased_date = start_datetime + timedelta(days=1)\n",
    "    return increased_date\n",
    "\n",
    "def set_target_date(target_date):\n",
    "    formatted_date = target_date[2:]\n",
    "    search_start_date = driver.find_element_by_css_selector('div.tf_comm > input#sSearchFrom')\n",
    "    for i in range(0, 8):\n",
    "        search_start_date.send_keys(Keys.BACK_SPACE)\n",
    "    search_start_date.send_keys(formatted_date)\n",
    "    \n",
    "    search_start_date = driver.find_element_by_css_selector('div.tf_comm > input#sSearchTo')\n",
    "    for i in range(0, 8):\n",
    "        search_start_date.send_keys(Keys.BACK_SPACE)\n",
    "    search_start_date.send_keys(formatted_date)"
   ]
  },
  {
   "cell_type": "code",
   "execution_count": 52,
   "metadata": {},
   "outputs": [],
   "source": [
    "set_target_date(target_date)\n",
    "search_button = driver.find_element_by_css_selector('div.wrap_btn > button.btn_blue')\n",
    "search_button.click()"
   ]
  },
  {
   "cell_type": "code",
   "execution_count": 53,
   "metadata": {},
   "outputs": [],
   "source": [
    "while True:\n",
    "    try:\n",
    "        more_button = driver.find_element_by_css_selector('div.more  > a.btn_more')\n",
    "        more_button.click()\n",
    "    except:\n",
    "        break"
   ]
  },
  {
   "cell_type": "code",
   "execution_count": 54,
   "metadata": {},
   "outputs": [
    {
     "name": "stdout",
     "output_type": "stream",
     "text": [
      "rank = 1\n",
      "sales = 1,732,773,470\n",
      "audience = 166,508\n"
     ]
    }
   ],
   "source": [
    "movie_table = driver.find_element_by_css_selector('tbody#tbody_0')\n",
    "\n",
    "rows = movie_table.find_elements_by_tag_name('tr')\n",
    "row_len = len(rows)\n",
    "first_row = rows[0]\n",
    "row_info = first_row.find_elements_by_tag_name('td')\n",
    "\n",
    "rank = row_info[0].text\n",
    "# title = row_info[1].text\n",
    "sales = row_info[3].text\n",
    "audience = row_info[7].text\n",
    "\n",
    "print(\"rank = \" + rank)\n",
    "print(\"sales = \" + sales)\n",
    "print(\"audience = \" + audience)\n"
   ]
  },
  {
   "cell_type": "code",
   "execution_count": 55,
   "metadata": {},
   "outputs": [],
   "source": [
    "# 영화 상세 정보를 얻기 위헤 제목 클릭\n",
    "second_td = first_row.find_elements_by_tag_name('td')[1]\n",
    "movie_info_link = second_td.find_element_by_css_selector('span.ellip.per90 > a')\n",
    "movie_info_link.click()"
   ]
  },
  {
   "cell_type": "code",
   "execution_count": 56,
   "metadata": {},
   "outputs": [
    {
     "name": "stdout",
     "output_type": "stream",
     "text": [
      "code = 20249434\n",
      "movie_details = 장편 | 일반영화 | 범죄, 드라마, 뮤지컬 | 137분 49초 | 15세이상관람가 | 미국\n",
      "release_date = 2024-10-01\n",
      "production_year = 2024년\n"
     ]
    }
   ],
   "source": [
    "# 영화를 클릭하면 나오는 상세 정보 템플릿에서 영화 메타데이터 가져오기\n",
    "movie_info_template = driver.find_element_by_css_selector('div[tabindex=\"-1\"]')\n",
    "\n",
    "title = movie_info_template.find_element_by_css_selector('div.hd_layer > div').text.replace(\"영화상영관상영중\", \"\").strip()\n",
    "movie_info = movie_info_template.find_element_by_css_selector('dl.ovf')\n",
    "metadata = movie_info.find_elements_by_css_selector('dt, dd')\n",
    "code = metadata[1].text\n",
    "\n",
    "movie_details = metadata[7].text\n",
    "release_date = metadata[11].text\n",
    "production_year = metadata[13].text\n",
    "\n",
    "print(\"code = \" + code)\n",
    "print(\"movie_details = \" + movie_details)\n",
    "print(\"release_date = \" + release_date)\n",
    "print(\"production_year = \" + production_year)"
   ]
  },
  {
   "cell_type": "code",
   "execution_count": 57,
   "metadata": {},
   "outputs": [
    {
     "name": "stdout",
     "output_type": "stream",
     "text": [
      "synopsys = “더 이상 혼자가 아니야”\n",
      "세상이란 무대에서 폭주하기 시작한 ‘조커’와 ‘할리 퀸’을 확인하라!\n",
      "\n",
      "2년 전, 세상을 뒤흔들며 고담시 아이콘으로 자리한 ‘아서 플렉’은\n",
      "아캄 수용소에 갇혀 최종 재판을 앞둔 무기력한 삶을 살아간다.\n",
      "\n",
      "그러던 어느 날, 수용소에서 운명적으로 만난 ‘리 퀸젤’은\n",
      "‘아서’의 삶을 다시 뒤바꾸며 그의 마음 속에 잠들어 있던 ‘조커’를 깨우고\n",
      "‘리’ 역시 각성하며 자신을 ‘할리 퀸’이라 지칭하며 서로에게 깊이 빠져든다.\n",
      "\n",
      "무고한 시민을 죽인 죄로 재판에 오르게 된 ‘아서’\n",
      "그는 최후의 심판대에서 ‘할리 퀸’과 함께 자신, ‘조커’의 이야기를 시작하는데…\n"
     ]
    }
   ],
   "source": [
    "# 코드 정보를 바탕으로 감독, 스태프가 있는 태그에 접근해 정보 얻기\n",
    "synopsys = movie_info_template.find_element_by_css_selector('p.desc_info').text\n",
    "print(\"synopsys = \" + synopsys)"
   ]
  },
  {
   "cell_type": "code",
   "execution_count": 58,
   "metadata": {},
   "outputs": [],
   "source": [
    "# 코드 아이디로 감독, 배우 정보가 있는 staff 관련 태그 얻어내기\n",
    "staff_id = f\"{code}_staff\"\n",
    "staff_info = movie_info_template.find_element_by_id(staff_id)\n",
    "\n",
    "desctiption_info = staff_info.find_element_by_css_selector('dl.desc_info')\n",
    "directorsNLeadActors = desctiption_info.find_elements_by_css_selector('div')"
   ]
  },
  {
   "cell_type": "code",
   "execution_count": 59,
   "metadata": {},
   "outputs": [
    {
     "name": "stdout",
     "output_type": "stream",
     "text": [
      "10080327: 토드 필립스 (Todd Phillips )\n"
     ]
    }
   ],
   "source": [
    "# 감독 이름, 코드 데이터 얻기\n",
    "directors = directorsNLeadActors[0].find_elements_by_css_selector('dd')\n",
    "\n",
    "director_set = {}\n",
    "for i in range(len(directors)):\n",
    "    directors[i].find_element_by_css_selector('a').click()\n",
    "    director_template = driver.find_elements_by_css_selector('div[tabindex=\"-1\"]')[1]\n",
    "\n",
    "\n",
    "    director_name = director_template.find_element_by_css_selector('div.hd_layer > div').text\n",
    "    director_detail = director_template.find_element_by_css_selector('div.item_tab > div.ovf > dl.ovf')\n",
    "    director_code = director_detail.find_elements_by_css_selector('dt, dd')[1].text\n",
    "    director_set[director_code] = director_name\n",
    "    # print(\"director_code = \" + director_code)\n",
    "    # print(\"director_name = \" + director_set[director_code])\n",
    "\n",
    "    # 뒤로가기\n",
    "    director_template.find_element_by_css_selector('a.close').click()\n",
    "\n",
    "# 감독 딕셔너리 내용 출력\n",
    "for key, value in director_set.items():\n",
    "    print(f\"{key}: {value}\")"
   ]
  },
  {
   "cell_type": "code",
   "execution_count": 66,
   "metadata": {},
   "outputs": [
    {
     "ename": "AttributeError",
     "evalue": "'list' object has no attribute 'text'",
     "output_type": "error",
     "traceback": [
      "\u001b[0;31m---------------------------------------------------------------------------\u001b[0m",
      "\u001b[0;31mAttributeError\u001b[0m                            Traceback (most recent call last)",
      "Input \u001b[0;32mIn [66]\u001b[0m, in \u001b[0;36m<cell line: 3>\u001b[0;34m()\u001b[0m\n\u001b[1;32m      1\u001b[0m lead_actors_template \u001b[38;5;241m=\u001b[39m directorsNLeadActors[\u001b[38;5;241m1\u001b[39m]\u001b[38;5;241m.\u001b[39mfind_elements_by_css_selector(\u001b[38;5;124m'\u001b[39m\u001b[38;5;124mdd\u001b[39m\u001b[38;5;124m'\u001b[39m)[\u001b[38;5;241m0\u001b[39m]\n\u001b[1;32m      2\u001b[0m lead_actors_template2 \u001b[38;5;241m=\u001b[39m lead_actors_template\u001b[38;5;241m.\u001b[39mfind_elements_by_css_selector(\u001b[38;5;124m'\u001b[39m\u001b[38;5;124mtable > tbody > tr > td\u001b[39m\u001b[38;5;124m'\u001b[39m)[\u001b[38;5;241m0\u001b[39m]\n\u001b[0;32m----> 3\u001b[0m \u001b[43mlead_actors_template2\u001b[49m\u001b[38;5;241;43m.\u001b[39;49m\u001b[43mfind_elements_by_css_selector\u001b[49m\u001b[43m(\u001b[49m\u001b[38;5;124;43m'\u001b[39;49m\u001b[38;5;124;43ma\u001b[39;49m\u001b[38;5;124;43m'\u001b[39;49m\u001b[43m)\u001b[49m\u001b[38;5;241;43m.\u001b[39;49m\u001b[43mtext\u001b[49m\n",
      "\u001b[0;31mAttributeError\u001b[0m: 'list' object has no attribute 'text'"
     ]
    }
   ],
   "source": [
    "lead_actors_template = directorsNLeadActors[1].find_elements_by_css_selector('dd')[0]\n",
    "lead_actors_template2 = lead_actors_template.find_elements_by_css_selector('table > tbody > tr > td')[0]\n",
    "lead_actors = lead_actors_template2.find_elements_by_css_selector('a')\n",
    "\n",
    "lead_actor_set = {}\n",
    "for i in range(len(directors)):\n",
    "    directors[i].find_element_by_css_selector('a').click()\n",
    "    director_template = driver.find_elements_by_css_selector('div[tabindex=\"-1\"]')[1]\n",
    "\n",
    "    # 뒤로가기\n",
    "    director_template.find_element_by_css_selector('a.close').click()\n",
    "    \n",
    "# 배우 딕셔너리 내용 출력\n",
    "for key, value in director_set.items():\n",
    "    print(f\"{key}: {value}\")"
   ]
  },
  {
   "cell_type": "code",
   "execution_count": 107,
   "metadata": {},
   "outputs": [
    {
     "ename": "StaleElementReferenceException",
     "evalue": "Message: stale element reference: stale element not found\n  (Session info: chrome=129.0.6668.90)\n",
     "output_type": "error",
     "traceback": [
      "\u001b[0;31m---------------------------------------------------------------------------\u001b[0m",
      "\u001b[0;31mStaleElementReferenceException\u001b[0m            Traceback (most recent call last)",
      "Input \u001b[0;32mIn [107]\u001b[0m, in \u001b[0;36m<cell line: 1>\u001b[0;34m()\u001b[0m\n\u001b[0;32m----> 1\u001b[0m leading_role_table \u001b[38;5;241m=\u001b[39m \u001b[43mdirectorsNLeadActors\u001b[49m\u001b[43m[\u001b[49m\u001b[38;5;241;43m1\u001b[39;49m\u001b[43m]\u001b[49m\u001b[38;5;241;43m.\u001b[39;49m\u001b[43mfind_element_by_css_selector\u001b[49m\u001b[43m(\u001b[49m\u001b[38;5;124;43m'\u001b[39;49m\u001b[38;5;124;43mtable\u001b[39;49m\u001b[38;5;124;43m'\u001b[39;49m\u001b[43m)\u001b[49m\n\u001b[1;32m      2\u001b[0m lead_actors \u001b[38;5;241m=\u001b[39m leading_role_table\u001b[38;5;241m.\u001b[39mfind_elements_by_css_selector(\u001b[38;5;124m'\u001b[39m\u001b[38;5;124ma\u001b[39m\u001b[38;5;124m'\u001b[39m)\n\u001b[1;32m      3\u001b[0m \u001b[38;5;28mprint\u001b[39m(\u001b[38;5;28mlen\u001b[39m(lead_actors))\n",
      "File \u001b[0;32m~/opt/anaconda3/lib/python3.9/site-packages/selenium/webdriver/remote/webelement.py:430\u001b[0m, in \u001b[0;36mWebElement.find_element_by_css_selector\u001b[0;34m(self, css_selector)\u001b[0m\n\u001b[1;32m    415\u001b[0m \u001b[38;5;28;01mdef\u001b[39;00m \u001b[38;5;21mfind_element_by_css_selector\u001b[39m(\u001b[38;5;28mself\u001b[39m, css_selector):\n\u001b[1;32m    416\u001b[0m     \u001b[38;5;124;03m\"\"\"Finds element within this element's children by CSS selector.\u001b[39;00m\n\u001b[1;32m    417\u001b[0m \n\u001b[1;32m    418\u001b[0m \u001b[38;5;124;03m    :Args:\u001b[39;00m\n\u001b[0;32m   (...)\u001b[0m\n\u001b[1;32m    428\u001b[0m \u001b[38;5;124;03m        element = element.find_element_by_css_selector('#foo')\u001b[39;00m\n\u001b[1;32m    429\u001b[0m \u001b[38;5;124;03m    \"\"\"\u001b[39;00m\n\u001b[0;32m--> 430\u001b[0m     \u001b[38;5;28;01mreturn\u001b[39;00m \u001b[38;5;28;43mself\u001b[39;49m\u001b[38;5;241;43m.\u001b[39;49m\u001b[43mfind_element\u001b[49m\u001b[43m(\u001b[49m\u001b[43mby\u001b[49m\u001b[38;5;241;43m=\u001b[39;49m\u001b[43mBy\u001b[49m\u001b[38;5;241;43m.\u001b[39;49m\u001b[43mCSS_SELECTOR\u001b[49m\u001b[43m,\u001b[49m\u001b[43m \u001b[49m\u001b[43mvalue\u001b[49m\u001b[38;5;241;43m=\u001b[39;49m\u001b[43mcss_selector\u001b[49m\u001b[43m)\u001b[49m\n",
      "File \u001b[0;32m~/opt/anaconda3/lib/python3.9/site-packages/selenium/webdriver/remote/webelement.py:658\u001b[0m, in \u001b[0;36mWebElement.find_element\u001b[0;34m(self, by, value)\u001b[0m\n\u001b[1;32m    655\u001b[0m         by \u001b[38;5;241m=\u001b[39m By\u001b[38;5;241m.\u001b[39mCSS_SELECTOR\n\u001b[1;32m    656\u001b[0m         value \u001b[38;5;241m=\u001b[39m \u001b[38;5;124m'\u001b[39m\u001b[38;5;124m[name=\u001b[39m\u001b[38;5;124m\"\u001b[39m\u001b[38;5;132;01m%s\u001b[39;00m\u001b[38;5;124m\"\u001b[39m\u001b[38;5;124m]\u001b[39m\u001b[38;5;124m'\u001b[39m \u001b[38;5;241m%\u001b[39m value\n\u001b[0;32m--> 658\u001b[0m \u001b[38;5;28;01mreturn\u001b[39;00m \u001b[38;5;28;43mself\u001b[39;49m\u001b[38;5;241;43m.\u001b[39;49m\u001b[43m_execute\u001b[49m\u001b[43m(\u001b[49m\u001b[43mCommand\u001b[49m\u001b[38;5;241;43m.\u001b[39;49m\u001b[43mFIND_CHILD_ELEMENT\u001b[49m\u001b[43m,\u001b[49m\n\u001b[1;32m    659\u001b[0m \u001b[43m                     \u001b[49m\u001b[43m{\u001b[49m\u001b[38;5;124;43m\"\u001b[39;49m\u001b[38;5;124;43musing\u001b[39;49m\u001b[38;5;124;43m\"\u001b[39;49m\u001b[43m:\u001b[49m\u001b[43m \u001b[49m\u001b[43mby\u001b[49m\u001b[43m,\u001b[49m\u001b[43m \u001b[49m\u001b[38;5;124;43m\"\u001b[39;49m\u001b[38;5;124;43mvalue\u001b[39;49m\u001b[38;5;124;43m\"\u001b[39;49m\u001b[43m:\u001b[49m\u001b[43m \u001b[49m\u001b[43mvalue\u001b[49m\u001b[43m}\u001b[49m\u001b[43m)\u001b[49m[\u001b[38;5;124m'\u001b[39m\u001b[38;5;124mvalue\u001b[39m\u001b[38;5;124m'\u001b[39m]\n",
      "File \u001b[0;32m~/opt/anaconda3/lib/python3.9/site-packages/selenium/webdriver/remote/webelement.py:633\u001b[0m, in \u001b[0;36mWebElement._execute\u001b[0;34m(self, command, params)\u001b[0m\n\u001b[1;32m    631\u001b[0m     params \u001b[38;5;241m=\u001b[39m {}\n\u001b[1;32m    632\u001b[0m params[\u001b[38;5;124m'\u001b[39m\u001b[38;5;124mid\u001b[39m\u001b[38;5;124m'\u001b[39m] \u001b[38;5;241m=\u001b[39m \u001b[38;5;28mself\u001b[39m\u001b[38;5;241m.\u001b[39m_id\n\u001b[0;32m--> 633\u001b[0m \u001b[38;5;28;01mreturn\u001b[39;00m \u001b[38;5;28;43mself\u001b[39;49m\u001b[38;5;241;43m.\u001b[39;49m\u001b[43m_parent\u001b[49m\u001b[38;5;241;43m.\u001b[39;49m\u001b[43mexecute\u001b[49m\u001b[43m(\u001b[49m\u001b[43mcommand\u001b[49m\u001b[43m,\u001b[49m\u001b[43m \u001b[49m\u001b[43mparams\u001b[49m\u001b[43m)\u001b[49m\n",
      "File \u001b[0;32m~/opt/anaconda3/lib/python3.9/site-packages/selenium/webdriver/remote/webdriver.py:321\u001b[0m, in \u001b[0;36mWebDriver.execute\u001b[0;34m(self, driver_command, params)\u001b[0m\n\u001b[1;32m    319\u001b[0m response \u001b[38;5;241m=\u001b[39m \u001b[38;5;28mself\u001b[39m\u001b[38;5;241m.\u001b[39mcommand_executor\u001b[38;5;241m.\u001b[39mexecute(driver_command, params)\n\u001b[1;32m    320\u001b[0m \u001b[38;5;28;01mif\u001b[39;00m response:\n\u001b[0;32m--> 321\u001b[0m     \u001b[38;5;28;43mself\u001b[39;49m\u001b[38;5;241;43m.\u001b[39;49m\u001b[43merror_handler\u001b[49m\u001b[38;5;241;43m.\u001b[39;49m\u001b[43mcheck_response\u001b[49m\u001b[43m(\u001b[49m\u001b[43mresponse\u001b[49m\u001b[43m)\u001b[49m\n\u001b[1;32m    322\u001b[0m     response[\u001b[38;5;124m'\u001b[39m\u001b[38;5;124mvalue\u001b[39m\u001b[38;5;124m'\u001b[39m] \u001b[38;5;241m=\u001b[39m \u001b[38;5;28mself\u001b[39m\u001b[38;5;241m.\u001b[39m_unwrap_value(\n\u001b[1;32m    323\u001b[0m         response\u001b[38;5;241m.\u001b[39mget(\u001b[38;5;124m'\u001b[39m\u001b[38;5;124mvalue\u001b[39m\u001b[38;5;124m'\u001b[39m, \u001b[38;5;28;01mNone\u001b[39;00m))\n\u001b[1;32m    324\u001b[0m     \u001b[38;5;28;01mreturn\u001b[39;00m response\n",
      "File \u001b[0;32m~/opt/anaconda3/lib/python3.9/site-packages/selenium/webdriver/remote/errorhandler.py:242\u001b[0m, in \u001b[0;36mErrorHandler.check_response\u001b[0;34m(self, response)\u001b[0m\n\u001b[1;32m    240\u001b[0m         alert_text \u001b[38;5;241m=\u001b[39m value[\u001b[38;5;124m'\u001b[39m\u001b[38;5;124malert\u001b[39m\u001b[38;5;124m'\u001b[39m]\u001b[38;5;241m.\u001b[39mget(\u001b[38;5;124m'\u001b[39m\u001b[38;5;124mtext\u001b[39m\u001b[38;5;124m'\u001b[39m)\n\u001b[1;32m    241\u001b[0m     \u001b[38;5;28;01mraise\u001b[39;00m exception_class(message, screen, stacktrace, alert_text)\n\u001b[0;32m--> 242\u001b[0m \u001b[38;5;28;01mraise\u001b[39;00m exception_class(message, screen, stacktrace)\n",
      "\u001b[0;31mStaleElementReferenceException\u001b[0m: Message: stale element reference: stale element not found\n  (Session info: chrome=129.0.6668.90)\n"
     ]
    }
   ],
   "source": [
    "leading_role_table = directorsNLeadActors[1].find_element_by_css_selector('table')\n",
    "lead_actors = leading_role_table.find_elements_by_css_selector('a')\n",
    "print(len(lead_actors))\n",
    "lead_actor_list = []\n",
    "for i in range(len(lead_actors)):\n",
    "    lead_actor_list.append(lead_actors[i].text)\n",
    "        \n",
    "print(lead_actor_list)"
   ]
  },
  {
   "cell_type": "code",
   "execution_count": null,
   "metadata": {},
   "outputs": [],
   "source": []
  },
  {
   "cell_type": "code",
   "execution_count": null,
   "metadata": {},
   "outputs": [],
   "source": []
  },
  {
   "cell_type": "code",
   "execution_count": null,
   "metadata": {},
   "outputs": [],
   "source": []
  }
 ],
 "metadata": {
  "kernelspec": {
   "display_name": "base",
   "language": "python",
   "name": "python3"
  },
  "language_info": {
   "codemirror_mode": {
    "name": "ipython",
    "version": 3
   },
   "file_extension": ".py",
   "mimetype": "text/x-python",
   "name": "python",
   "nbconvert_exporter": "python",
   "pygments_lexer": "ipython3",
   "version": "3.9.12"
  }
 },
 "nbformat": 4,
 "nbformat_minor": 2
}
