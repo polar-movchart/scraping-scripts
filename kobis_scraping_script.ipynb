{
 "cells": [
  {
   "cell_type": "code",
   "execution_count": 69,
   "metadata": {},
   "outputs": [],
   "source": [
    "from selenium import webdriver;\n",
    "from selenium.webdriver.common.keys import Keys;\n",
    "import time\n",
    "from datetime import datetime, timedelta\n",
    "import re"
   ]
  },
  {
   "cell_type": "code",
   "execution_count": 48,
   "metadata": {},
   "outputs": [],
   "source": [
    "driver = webdriver.Chrome()"
   ]
  },
  {
   "cell_type": "code",
   "execution_count": 49,
   "metadata": {},
   "outputs": [],
   "source": [
    "url = \"https://www.kobis.or.kr/kobis/business/stat/boxs/findDailyBoxOfficeList.do\"\n",
    "driver.get(url)\n",
    "time.sleep(15)"
   ]
  },
  {
   "cell_type": "code",
   "execution_count": 50,
   "metadata": {},
   "outputs": [],
   "source": [
    "target_date = \"2024-10-01\""
   ]
  },
  {
   "cell_type": "code",
   "execution_count": 51,
   "metadata": {},
   "outputs": [],
   "source": [
    "## 함수 모음\n",
    "def increase_date(start_date):\n",
    "    start_datetime = datetime.strptime(start_date, \"%Y-%m-%d\")\n",
    "    increased_date = start_datetime + timedelta(days=1)\n",
    "    return increased_date\n",
    "\n",
    "def set_target_date(target_date):\n",
    "    formatted_date = target_date[2:]\n",
    "    search_start_date = driver.find_element_by_css_selector('div.tf_comm > input#sSearchFrom')\n",
    "    for i in range(0, 8):\n",
    "        search_start_date.send_keys(Keys.BACK_SPACE)\n",
    "    search_start_date.send_keys(formatted_date)\n",
    "    \n",
    "    search_start_date = driver.find_element_by_css_selector('div.tf_comm > input#sSearchTo')\n",
    "    for i in range(0, 8):\n",
    "        search_start_date.send_keys(Keys.BACK_SPACE)\n",
    "    search_start_date.send_keys(formatted_date)\n",
    "    \n",
    "def click_more_button():\n",
    "    while True:\n",
    "        try:\n",
    "            more_button = driver.find_element_by_css_selector('div.more  > a.btn_more')\n",
    "            more_button.click()\n",
    "        except:\n",
    "            break\n",
    "        \n",
    "def get_movie_info():\n",
    "    movie_table = driver.find_element_by_css_selector('tbody#tbody_0')\n",
    "\n",
    "    rows = movie_table.find_elements_by_tag_name('tr')\n",
    "    first_row = rows[0]\n",
    "    row_info = first_row.find_elements_by_tag_name('td')\n",
    "\n",
    "    rank = row_info[0].text\n",
    "    # title = row_info[1].text\n",
    "    sales = row_info[3].text\n",
    "    audience = row_info[7].text\n",
    "\n",
    "    # print(\"rank = \" + rank)\n",
    "    # print(\"sales = \" + sales)\n",
    "    # print(\"audience = \" + audience)\n"
   ]
  },
  {
   "cell_type": "code",
   "execution_count": 52,
   "metadata": {},
   "outputs": [],
   "source": [
    "set_target_date(target_date)\n",
    "search_button = driver.find_element_by_css_selector('div.wrap_btn > button.btn_blue')\n",
    "search_button.click()\n",
    "click_more_button()\n",
    "get_movie_info()"
   ]
  },
  {
   "cell_type": "code",
   "execution_count": 54,
   "metadata": {},
   "outputs": [
    {
     "name": "stdout",
     "output_type": "stream",
     "text": [
      "rank = 1\n",
      "sales = 1,732,773,470\n",
      "audience = 166,508\n"
     ]
    }
   ],
   "source": []
  },
  {
   "cell_type": "code",
   "execution_count": 55,
   "metadata": {},
   "outputs": [],
   "source": [
    "# 영화 상세 정보를 얻기 위헤 제목 클릭\n",
    "second_td = first_row.find_elements_by_tag_name('td')[1]\n",
    "movie_info_link = second_td.find_element_by_css_selector('span.ellip.per90 > a')\n",
    "movie_info_link.click()"
   ]
  },
  {
   "cell_type": "code",
   "execution_count": 56,
   "metadata": {},
   "outputs": [
    {
     "name": "stdout",
     "output_type": "stream",
     "text": [
      "code = 20249434\n",
      "movie_details = 장편 | 일반영화 | 범죄, 드라마, 뮤지컬 | 137분 49초 | 15세이상관람가 | 미국\n",
      "release_date = 2024-10-01\n",
      "production_year = 2024년\n"
     ]
    }
   ],
   "source": [
    "# 영화를 클릭하면 나오는 상세 정보 템플릿에서 영화 메타데이터 가져오기\n",
    "movie_info_template = driver.find_element_by_css_selector('div[tabindex=\"-1\"]')\n",
    "\n",
    "title = movie_info_template.find_element_by_css_selector('div.hd_layer > div').text.replace(\"영화상영관상영중\", \"\").strip()\n",
    "movie_info = movie_info_template.find_element_by_css_selector('dl.ovf')\n",
    "metadata = movie_info.find_elements_by_css_selector('dt, dd')\n",
    "code = metadata[1].text\n",
    "\n",
    "movie_details = metadata[7].text\n",
    "release_date = metadata[11].text\n",
    "production_year = metadata[13].text\n",
    "\n",
    "print(\"code = \" + code)\n",
    "print(\"movie_details = \" + movie_details)\n",
    "print(\"release_date = \" + release_date)\n",
    "print(\"production_year = \" + production_year)"
   ]
  },
  {
   "cell_type": "code",
   "execution_count": 57,
   "metadata": {},
   "outputs": [
    {
     "name": "stdout",
     "output_type": "stream",
     "text": [
      "synopsys = “더 이상 혼자가 아니야”\n",
      "세상이란 무대에서 폭주하기 시작한 ‘조커’와 ‘할리 퀸’을 확인하라!\n",
      "\n",
      "2년 전, 세상을 뒤흔들며 고담시 아이콘으로 자리한 ‘아서 플렉’은\n",
      "아캄 수용소에 갇혀 최종 재판을 앞둔 무기력한 삶을 살아간다.\n",
      "\n",
      "그러던 어느 날, 수용소에서 운명적으로 만난 ‘리 퀸젤’은\n",
      "‘아서’의 삶을 다시 뒤바꾸며 그의 마음 속에 잠들어 있던 ‘조커’를 깨우고\n",
      "‘리’ 역시 각성하며 자신을 ‘할리 퀸’이라 지칭하며 서로에게 깊이 빠져든다.\n",
      "\n",
      "무고한 시민을 죽인 죄로 재판에 오르게 된 ‘아서’\n",
      "그는 최후의 심판대에서 ‘할리 퀸’과 함께 자신, ‘조커’의 이야기를 시작하는데…\n"
     ]
    }
   ],
   "source": [
    "# 코드 정보를 바탕으로 감독, 스태프가 있는 태그에 접근해 정보 얻기\n",
    "synopsys = movie_info_template.find_element_by_css_selector('p.desc_info').text\n",
    "print(\"synopsys = \" + synopsys)"
   ]
  },
  {
   "cell_type": "code",
   "execution_count": 58,
   "metadata": {},
   "outputs": [],
   "source": [
    "# 코드 아이디로 감독, 배우 정보가 있는 staff 관련 태그 얻어내기\n",
    "staff_id = f\"{code}_staff\"\n",
    "staff_info = movie_info_template.find_element_by_id(staff_id)\n",
    "\n",
    "desctiption_info = staff_info.find_element_by_css_selector('dl.desc_info')\n",
    "directorsNLeadActors = desctiption_info.find_elements_by_css_selector('div')"
   ]
  },
  {
   "cell_type": "code",
   "execution_count": 59,
   "metadata": {},
   "outputs": [
    {
     "name": "stdout",
     "output_type": "stream",
     "text": [
      "10080327: 토드 필립스 (Todd Phillips )\n"
     ]
    }
   ],
   "source": [
    "# # 감독 이름, 코드 데이터 얻기\n",
    "# directors = directorsNLeadActors[0].find_elements_by_css_selector('dd')\n",
    "\n",
    "# director_set = {}\n",
    "# for i in range(len(directors)):\n",
    "#     directors[i].find_element_by_css_selector('a').click()\n",
    "#     director_template = driver.find_elements_by_css_selector('div[tabindex=\"-1\"]')[1]\n",
    "\n",
    "\n",
    "#     director_name = director_template.find_element_by_css_selector('div.hd_layer > div').text\n",
    "#     director_detail = director_template.find_element_by_css_selector('div.item_tab > div.ovf > dl.ovf')\n",
    "#     director_code = director_detail.find_elements_by_css_selector('dt, dd')[1].text\n",
    "#     director_set[director_code] = director_name\n",
    "#     # print(\"director_code = \" + director_code)\n",
    "#     # print(\"director_name = \" + director_set[director_code])\n",
    "\n",
    "#     # 뒤로가기\n",
    "#     director_template.find_element_by_css_selector('a.close').click()\n",
    "\n",
    "# # 감독 딕셔너리 내용 출력\n",
    "# for key, value in director_set.items():\n",
    "#     print(f\"{key}: {value}\")"
   ]
  },
  {
   "cell_type": "code",
   "execution_count": 70,
   "metadata": {},
   "outputs": [
    {
     "name": "stdout",
     "output_type": "stream",
     "text": [
      "10080327: 토드 필립스\n"
     ]
    }
   ],
   "source": [
    "# 감독 이름, 코드 데이터 얻기2 - onClick()\n",
    "directors = directorsNLeadActors[0].find_elements_by_css_selector('dd')\n",
    "\n",
    "director_set = {}\n",
    "for i in range(len(directors)):\n",
    "    director_info = directors[i].find_element_by_css_selector('a')\n",
    "    director_name = director_info.text\n",
    "    on_click_attr = director_info.get_attribute('onClick')\n",
    "    match = re.search(r\"mstView\\('people','(\\d+)'\\);\", on_click_attr)\n",
    "    \n",
    "    if match:\n",
    "        director_code = match.group(1)\n",
    "        director_set[director_code] = director_name\n",
    "    else:\n",
    "        print(\"코드를 찾을 수 없습니다.\")\n",
    "\n",
    "# 감독 딕셔너리 내용 출력\n",
    "for key, value in director_set.items():\n",
    "    print(f\"{key}: {value}\")"
   ]
  },
  {
   "cell_type": "code",
   "execution_count": 74,
   "metadata": {},
   "outputs": [
    {
     "name": "stdout",
     "output_type": "stream",
     "text": [
      "10051376: 호아킨 피닉스\n",
      "20166682: 레이디 가가\n"
     ]
    }
   ],
   "source": [
    "lead_actors_template = directorsNLeadActors[1].find_elements_by_css_selector('dd')[0]\n",
    "lead_actors_template2 = lead_actors_template.find_elements_by_css_selector('table > tbody > tr > td')[0]\n",
    "lead_actors = lead_actors_template2.find_elements_by_css_selector('a')\n",
    "\n",
    "lead_actor_set = {}\n",
    "for i in range(len(lead_actors)):\n",
    "    lead_actor_name = lead_actors[i].text\n",
    "    on_click_attr = lead_actors[i].get_attribute('onClick')\n",
    "    match = re.search(r\"mstView\\('people','(\\d+)'\\);\", on_click_attr)\n",
    "\n",
    "    if match:\n",
    "        lead_actor_code = match.group(1)\n",
    "        lead_actor_set[lead_actor_code] = lead_actor_name\n",
    "    else:\n",
    "        print(\"코드를 찾을 수 없습니다.\")\n",
    "\n",
    "# 감독 딕셔너리 내용 출력\n",
    "for key, value in lead_actor_set.items():\n",
    "    print(f\"{key}: {value}\")"
   ]
  },
  {
   "cell_type": "code",
   "execution_count": 75,
   "metadata": {},
   "outputs": [],
   "source": [
    "# 영화 상세정보 닫기\n",
    "driver.find_element_by_css_selector('div.hd_layer > a.close').click()"
   ]
  },
  {
   "cell_type": "code",
   "execution_count": null,
   "metadata": {},
   "outputs": [],
   "source": []
  },
  {
   "cell_type": "code",
   "execution_count": null,
   "metadata": {},
   "outputs": [],
   "source": []
  }
 ],
 "metadata": {
  "kernelspec": {
   "display_name": "base",
   "language": "python",
   "name": "python3"
  },
  "language_info": {
   "codemirror_mode": {
    "name": "ipython",
    "version": 3
   },
   "file_extension": ".py",
   "mimetype": "text/x-python",
   "name": "python",
   "nbconvert_exporter": "python",
   "pygments_lexer": "ipython3",
   "version": "3.9.12"
  }
 },
 "nbformat": 4,
 "nbformat_minor": 2
}
